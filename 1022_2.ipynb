{
 "cells": [
  {
   "cell_type": "markdown",
   "metadata": {},
   "source": [
    "# 吃蛋糕或吃大便"
   ]
  },
  {
   "cell_type": "code",
   "execution_count": 2,
   "metadata": {},
   "outputs": [
    {
     "name": "stdout",
     "output_type": "stream",
     "text": [
      "Player1:你吃\n",
      "Player2:大便\n",
      "Player1 win!\n"
     ]
    }
   ],
   "source": [
    "\n",
    "\n",
    "a = input(\"Player1:\")\n",
    "b = input(\"Player2:\")\n",
    "\n",
    "c = a.lower()\n",
    "d = b.lower()\n",
    "\n",
    "words =[\"蛋糕\",\"大便\",\"你吃\",\"我吃\"]\n",
    "\n",
    "def game(a,b):\n",
    "    if c==words[0] and d==words[2]:\n",
    "        print(\"Player1 win!\")\n",
    "    elif c==words[0] and d==words[3]:\n",
    "        print(\"Player2 win!\")\n",
    "    elif c==words[1] and d==words[2]:\n",
    "        print(\"Player2 win!\")\n",
    "    elif c==words[1] and d==words[3]:\n",
    "        print(\"Player1 win!\")\n",
    "    elif c==words[2] and d==words[0]:\n",
    "        print(\"Player2 win!\")\n",
    "    elif c==words[2] and d==words[1]:\n",
    "        print(\"Player1 win!\")\n",
    "    elif c==words[3] and d==words[0]:\n",
    "        print(\"Player1 win!\")\n",
    "    elif c==words[3] and d==words[1]:\n",
    "        print(\"Player2 win!\")\n",
    "    else:\n",
    "        print(\"No winner!\")\n",
    "    \n",
    "    \n",
    "game(a,b)"
   ]
  },
  {
   "cell_type": "code",
   "execution_count": null,
   "metadata": {
    "collapsed": true
   },
   "outputs": [],
   "source": []
  }
 ],
 "metadata": {
  "kernelspec": {
   "display_name": "Python 3",
   "language": "python",
   "name": "python3"
  },
  "language_info": {
   "codemirror_mode": {
    "name": "ipython",
    "version": 3
   },
   "file_extension": ".py",
   "mimetype": "text/x-python",
   "name": "python",
   "nbconvert_exporter": "python",
   "pygments_lexer": "ipython3",
   "version": "3.6.1"
  }
 },
 "nbformat": 4,
 "nbformat_minor": 2
}
