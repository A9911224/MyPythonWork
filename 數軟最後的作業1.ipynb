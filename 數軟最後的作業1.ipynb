{
 "cells": [
  {
   "cell_type": "code",
   "execution_count": 4,
   "metadata": {},
   "outputs": [],
   "source": [
    "##爬聖誕節當天的匯率 幫你算要用相對數量的台幣可以換多少外幣"
   ]
  },
  {
   "cell_type": "code",
   "execution_count": 5,
   "metadata": {},
   "outputs": [],
   "source": [
    "import requests\n",
    "from pyquery import PyQuery"
   ]
  },
  {
   "cell_type": "code",
   "execution_count": 6,
   "metadata": {},
   "outputs": [],
   "source": [
    "requests.get(\"https://rate.bot.com.tw/xrt/all/2019-12-25\")\n",
    "res = requests.get(\"https://rate.bot.com.tw/xrt/all/2019-12-25\")\n",
    "res.text\n",
    "html = PyQuery(res.text)"
   ]
  },
  {
   "cell_type": "code",
   "execution_count": 7,
   "metadata": {},
   "outputs": [
    {
     "name": "stdout",
     "output_type": "stream",
     "text": [
      "美金 (USD) 港幣 (HKD) 英鎊 (GBP) 澳幣 (AUD) 加拿大幣 (CAD) 新加坡幣 (SGD) 瑞士法郎 (CHF) 日圓 (JPY) 南非幣 (ZAR) 瑞典幣 (SEK) 紐元 (NZD) 泰幣 (THB) 菲國比索 (PHP) 印尼幣 (IDR) 歐元 (EUR) 韓元 (KRW) 越南盾 (VND) 馬來幣 (MYR) 人民幣 (CNY)\n"
     ]
    }
   ],
   "source": [
    "print(html(\"div.hidden-phone\").text())  #可以兌換的外幣"
   ]
  },
  {
   "cell_type": "code",
   "execution_count": null,
   "metadata": {},
   "outputs": [],
   "source": [
    "\n"
   ]
  },
  {
   "cell_type": "code",
   "execution_count": 17,
   "metadata": {},
   "outputs": [],
   "source": [
    "dic = {}\n",
    "mt0 = html(\"div.hidden-phone\").text().replace('(', '').replace(')', '')\n",
    "mt = mt0.split()"
   ]
  },
  {
   "cell_type": "code",
   "execution_count": 18,
   "metadata": {},
   "outputs": [],
   "source": [
    "mc = html(\"td.rate-content-cash[data-table=本行現金賣出]\").text().split()"
   ]
  },
  {
   "cell_type": "code",
   "execution_count": 19,
   "metadata": {},
   "outputs": [],
   "source": [
    "for i in  range(19):\n",
    "    dic[mt[2*i+1]] = mc[i]"
   ]
  },
  {
   "cell_type": "code",
   "execution_count": 21,
   "metadata": {},
   "outputs": [
    {
     "data": {
      "text/plain": [
       "{'USD': '30.765',\n",
       " 'HKD': '3.943',\n",
       " 'GBP': '40.48',\n",
       " 'AUD': '21.26',\n",
       " 'CAD': '23.34',\n",
       " 'SGD': '22.67',\n",
       " 'CHF': '31.15',\n",
       " 'JPY': '0.2831',\n",
       " 'ZAR': '-',\n",
       " 'SEK': '3.34',\n",
       " 'NZD': '20.25',\n",
       " 'THB': '1.0716',\n",
       " 'PHP': '0.6579',\n",
       " 'IDR': '0.00253',\n",
       " 'EUR': '34.3',\n",
       " 'KRW': '0.02782',\n",
       " 'VND': '0.00144',\n",
       " 'MYR': '7.836',\n",
       " 'CNY': '4.393'}"
      ]
     },
     "execution_count": 21,
     "metadata": {},
     "output_type": "execute_result"
    }
   ],
   "source": [
    "dic"
   ]
  },
  {
   "cell_type": "code",
   "execution_count": 24,
   "metadata": {},
   "outputs": [],
   "source": [
    "c = float(b)/float(dic[a])\n"
   ]
  },
  {
   "cell_type": "code",
   "execution_count": 28,
   "metadata": {},
   "outputs": [
    {
     "name": "stdout",
     "output_type": "stream",
     "text": [
      "請輸入要兌換的幣別：VND\n",
      "請輸入要用多少台幣兌換：2000\n",
      "NTD: 2000\n",
      "VND: 1388889\n"
     ]
    }
   ],
   "source": [
    "a = input(\"請輸入要兌換的幣別：\")\n",
    "b = input(\"請輸入要用多少台幣兌換：\")\n",
    "\n",
    "print(\"NTD:\",b)\n",
    "print(a,end=\"\")\n",
    "print(\": \",end=\"\")\n",
    "print(round(c))"
   ]
  },
  {
   "cell_type": "code",
   "execution_count": null,
   "metadata": {},
   "outputs": [],
   "source": []
  }
 ],
 "metadata": {
  "kernelspec": {
   "display_name": "Python 3",
   "language": "python",
   "name": "python3"
  },
  "language_info": {
   "codemirror_mode": {
    "name": "ipython",
    "version": 3
   },
   "file_extension": ".py",
   "mimetype": "text/x-python",
   "name": "python",
   "nbconvert_exporter": "python",
   "pygments_lexer": "ipython3",
   "version": "3.6.8"
  }
 },
 "nbformat": 4,
 "nbformat_minor": 2
}
