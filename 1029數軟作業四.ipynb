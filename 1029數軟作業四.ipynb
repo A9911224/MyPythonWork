{
 "cells": [
  {
   "cell_type": "code",
   "execution_count": 79,
   "metadata": {
    "collapsed": true
   },
   "outputs": [],
   "source": [
    "%matplotlib inline\n",
    "import numpy as np\n",
    "import matplotlib.pyplot as plt"
   ]
  },
  {
   "cell_type": "code",
   "execution_count": 89,
   "metadata": {},
   "outputs": [
    {
     "data": {
      "text/plain": [
       "[-4, 4, -5, 2]"
      ]
     },
     "execution_count": 89,
     "metadata": {},
     "output_type": "execute_result"
    },
    {
     "data": {
      "image/png": "[encoded data removed]",
      "text/plain": [
       "<matplotlib.figure.Figure at 0x1125553c8>"
      ]
     },
     "metadata": {},
     "output_type": "display_data"
    }
   ],
   "source": [
    "x = np.linspace(0,np.pi,1000)\n",
    "plt.scatter(np.cos(x),np.sin(x),c=\"c\")\n",
    "plt.scatter(np.cos(x),-np.sin(x),c=\"c\")\n",
    "plt.scatter(1.5*np.cos(x),1.5*np.sin(x)-2.5,c=\"b\")\n",
    "plt.scatter(1.5*np.cos(x),-1.5*np.sin(x)-2.5,c=\"b\")\n",
    "plt.scatter(0.3,0.4,c=\"black\")\n",
    "plt.scatter(-0.3,0.4,c=\"black\")\n",
    "plt.scatter(0.1*np.cos(x),0.1*np.sin(x) -0.3,c=\"r\")\n",
    "plt.scatter(0.1*np.cos(x),-0.1*np.sin(x) -0.3,c=\"r\")\n",
    "\n",
    "plt.axis([-4, 4, -5, 2])"
   ]
  },
  {
   "cell_type": "code",
   "execution_count": null,
   "metadata": {
    "collapsed": true
   },
   "outputs": [],
   "source": []
  }
 ],
 "metadata": {
  "kernelspec": {
   "display_name": "Python 3",
   "language": "python",
   "name": "python3"
  },
  "language_info": {
   "codemirror_mode": {
    "name": "ipython",
    "version": 3
   },
   "file_extension": ".py",
   "mimetype": "text/x-python",
   "name": "python",
   "nbconvert_exporter": "python",
   "pygments_lexer": "ipython3",
   "version": "3.6.1"
  }
 },
 "nbformat": 4,
 "nbformat_minor": 2
}
