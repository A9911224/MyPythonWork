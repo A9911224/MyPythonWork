{
 "cells": [
  {
   "cell_type": "markdown",
   "metadata": {},
   "source": [
    "## 積分機器"
   ]
  },
  {
   "cell_type": "code",
   "execution_count": 1,
   "metadata": {
    "collapsed": true
   },
   "outputs": [],
   "source": [
    "%matplotlib inline\n",
    "\n",
    "import numpy as np\n",
    "import matplotlib.pyplot as plt"
   ]
  },
  {
   "cell_type": "code",
   "execution_count": 32,
   "metadata": {
    "collapsed": true
   },
   "outputs": [],
   "source": [
    "import sympy as sp\n",
    "sp.init_printing()"
   ]
  },
  {
   "cell_type": "code",
   "execution_count": 3,
   "metadata": {
    "collapsed": true
   },
   "outputs": [],
   "source": [
    "from sympy.abc import x,y,z"
   ]
  },
  {
   "cell_type": "code",
   "execution_count": 41,
   "metadata": {},
   "outputs": [
    {
     "name": "stdout",
     "output_type": "stream",
     "text": [
      "輸入多項式：x**y + y\n",
      "要對哪個變數積分：y\n"
     ]
    },
    {
     "data": {
      "text/latex": [
       "$$\\frac{y^{2}}{2} + \\begin{cases} y & \\text{for}\\: \\log{\\left (x \\right )} = 0 \\\\\\frac{x^{y}}{\\log{\\left (x \\right )}} & \\text{otherwise} \\end{cases}$$"
      ],
      "text/plain": [
       "     ⎛⎧  y     for log(x) = 0⎞\n",
       " 2   ⎜⎪                      ⎟\n",
       "y    ⎜⎪   y                  ⎟\n",
       "── + ⎜⎨  x                   ⎟\n",
       "2    ⎜⎪──────    otherwise   ⎟\n",
       "     ⎜⎪log(x)                ⎟\n",
       "     ⎝⎩                      ⎠"
      ]
     },
     "execution_count": 41,
     "metadata": {},
     "output_type": "execute_result"
    }
   ],
   "source": [
    "i = input(\"輸入多項式：\")\n",
    "j = input(\"要對哪個變數積分：\")\n",
    "\n",
    "sp.init_printing()\n",
    "\n",
    "if j == 'x' :\n",
    "    a = (sp.integrate(i,x))\n",
    "elif j == \"y\" :\n",
    "    a = (sp.integrate(i,y))\n",
    "elif j == \"z\" :\n",
    "    a = (sp.integrate(i,z))\n",
    "else:\n",
    "    a = (\"請重新輸入\")\n",
    "a"
   ]
  },
  {
   "cell_type": "code",
   "execution_count": null,
   "metadata": {},
   "outputs": [],
   "source": []
  },
  {
   "cell_type": "code",
   "execution_count": null,
   "metadata": {
    "collapsed": true
   },
   "outputs": [],
   "source": []
  }
 ],
 "metadata": {
  "kernelspec": {
   "display_name": "Python 3",
   "language": "python",
   "name": "python3"
  },
  "language_info": {
   "codemirror_mode": {
    "name": "ipython",
    "version": 3
   },
   "file_extension": ".py",
   "mimetype": "text/x-python",
   "name": "python",
   "nbconvert_exporter": "python",
   "pygments_lexer": "ipython3",
   "version": "3.6.1"
  }
 },
 "nbformat": 4,
 "nbformat_minor": 2
}
