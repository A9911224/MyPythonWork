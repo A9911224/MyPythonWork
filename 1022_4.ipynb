{
 "cells": [
  {
   "cell_type": "markdown",
   "metadata": {},
   "source": [
    "### 四個學妹分別輸入對學長的好感指數(學長氣質度  學長體貼度  學長幽默度   學妹個人喜好程度   學長對學妹有興趣的程度)\n",
    "    輸出為有可能撮合的組合數"
   ]
  },
  {
   "cell_type": "code",
   "execution_count": 1,
   "metadata": {},
   "outputs": [
    {
     "name": "stdout",
     "output_type": "stream",
     "text": [
      "7 7 7 7 7\n",
      "6 6 5 4 1\n",
      "4 3 2 4 5\n",
      "8 8 6 9 1\n",
      "CP 2\n",
      "chance 1\n",
      "without chance 1\n"
     ]
    }
   ],
   "source": [
    "a = input(\"\")\n",
    "b = input(\"\")\n",
    "c = input(\"\")\n",
    "d = input(\"\")\n",
    "\n",
    "aa = a.split(\" \")\n",
    "bb = b.split(\" \")\n",
    "cc = c.split(\" \")\n",
    "dd = d.split(\" \")\n",
    "\n",
    "good=0\n",
    "normal=0\n",
    "bad=0\n",
    "\n",
    "def charm(x):\n",
    "    return int(x[0])+int(x[1])+int(x[2])+int(x[3])+int(x[4])\n",
    "\n",
    "good=0\n",
    "normal=0\n",
    "bad=0\n",
    "\n",
    "S=[aa,bb,cc,dd]\n",
    "for q in S:\n",
    "    if charm(q)>=25:\n",
    "        good=good+1\n",
    "    elif charm(q)>=21:\n",
    "        normal=normal+1\n",
    "    else:\n",
    "        bad=bad+1\n",
    "    \n",
    "\n",
    "print(\"CP\",good)\n",
    "print(\"chance\",normal)\n",
    "print(\"without chance\",bad)"
   ]
  },
  {
   "cell_type": "code",
   "execution_count": null,
   "metadata": {
    "collapsed": true
   },
   "outputs": [],
   "source": []
  }
 ],
 "metadata": {
  "kernelspec": {
   "display_name": "Python 3",
   "language": "python",
   "name": "python3"
  },
  "language_info": {
   "codemirror_mode": {
    "name": "ipython",
    "version": 3
   },
   "file_extension": ".py",
   "mimetype": "text/x-python",
   "name": "python",
   "nbconvert_exporter": "python",
   "pygments_lexer": "ipython3",
   "version": "3.6.1"
  }
 },
 "nbformat": 4,
 "nbformat_minor": 2
}
