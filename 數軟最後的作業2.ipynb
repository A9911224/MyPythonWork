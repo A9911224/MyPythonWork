{
 "cells": [
  {
   "cell_type": "code",
   "execution_count": 8,
   "metadata": {},
   "outputs": [],
   "source": [
    "#來爬一下IMDb評分最高的一些電影，找找特定年代的電影有幾個"
   ]
  },
  {
   "cell_type": "code",
   "execution_count": 9,
   "metadata": {},
   "outputs": [
    {
     "name": "stdout",
     "output_type": "stream",
     "text": [
      "1985\n",
      "3\n"
     ]
    }
   ],
   "source": [
    "import requests\n",
    "from pyquery import PyQuery\n",
    "\n",
    "requests.get(\"https://www.imdb.com/chart/top/?ref_=nv_mv_250\")\n",
    "res = requests.get(\"https://www.imdb.com/chart/top/?ref_=nv_mv_250\")\n",
    "res.text\n",
    "html = PyQuery(res.text)\n",
    "\n",
    "a = input()\n",
    "\n",
    "c = html(\".secondaryInfo\").text().replace(\"(\",\"\").replace(\")\",\"\")\n",
    "d = c.split()\n",
    "print(d.count(a))"
   ]
  },
  {
   "cell_type": "code",
   "execution_count": null,
   "metadata": {},
   "outputs": [],
   "source": []
  }
 ],
 "metadata": {
  "kernelspec": {
   "display_name": "Python 3",
   "language": "python",
   "name": "python3"
  },
  "language_info": {
   "codemirror_mode": {
    "name": "ipython",
    "version": 3
   },
   "file_extension": ".py",
   "mimetype": "text/x-python",
   "name": "python",
   "nbconvert_exporter": "python",
   "pygments_lexer": "ipython3",
   "version": "3.6.8"
  }
 },
 "nbformat": 4,
 "nbformat_minor": 2
}
