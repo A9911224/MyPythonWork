{
 "cells": [
  {
   "cell_type": "markdown",
   "metadata": {
    "collapsed": true
   },
   "source": [
    "## 自動發牌機發到你手上："
   ]
  },
  {
   "cell_type": "code",
   "execution_count": 76,
   "metadata": {},
   "outputs": [],
   "source": [
    "import random as rd\n",
    "from functools import cmp_to_key"
   ]
  },
  {
   "cell_type": "code",
   "execution_count": 77,
   "metadata": {
    "collapsed": true
   },
   "outputs": [],
   "source": [
    "card = [\"A\",\"2\",\"3\",\"4\",\"5\",\"6\",\"7\",\"8\",\"9\",\"10\",\"J\",\"Q\",\"K\"]\n",
    "def mycmp(a,b):\n",
    "    atoi={\"A\":1,\"J\":11,\"Q\":12,\"K\":13}\n",
    "    if a[\"card\"].isalpha():\n",
    "        n1 = atoi[a[\"card\"]]\n",
    "    else:\n",
    "        n1 = int(a[\"card\"])\n",
    "        \n",
    "    if b[\"card\"].isalpha():\n",
    "        n2 = atoi[b[\"card\"]]\n",
    "    else:\n",
    "        n2 = int(b[\"card\"])\n",
    "    \n",
    "    return n1-n2"
   ]
  },
  {
   "cell_type": "code",
   "execution_count": 151,
   "metadata": {},
   "outputs": [
    {
     "name": "stdout",
     "output_type": "stream",
     "text": [
      "共有幾位玩家:4\n",
      "♥ 4\n",
      "♠ 5\n",
      "♣ 6\n",
      "♣ 7\n",
      "♠ 7\n",
      "♦ 8\n",
      "♦ 9\n",
      "♣ 9\n",
      "♠ 10\n",
      "♥ J\n",
      "♦ J\n",
      "♣ J\n",
      "♦ K\n"
     ]
    }
   ],
   "source": [
    "e = int(input(\"共有幾位玩家:\"))\n",
    "x = int(52/e)\n",
    "def pick(x):\n",
    "    c = []\n",
    "    suit = [\"♠\",\"♥\",\"♦\",\"♣\"]\n",
    "    card = [\"A\",\"2\",\"3\",\"4\",\"5\",\"6\",\"7\",\"8\",\"9\",\"10\",\"J\",\"Q\",\"K\"]\n",
    "    \n",
    "\n",
    "    for j in card:\n",
    "        for i in suit:\n",
    "            ca ={\"suit\":i,\"card\":j}\n",
    "            c.append(ca)\n",
    "    d = (rd.sample(c,x))\n",
    "    d.sort(key = cmp_to_key(mycmp))\n",
    "    \n",
    "    g = []\n",
    "    for num in range(x):\n",
    "        ga =list(d[num].values())\n",
    "        print(ga[0],ga[1])\n",
    "    \n",
    "pick(x) \n",
    "\n"
   ]
  },
  {
   "cell_type": "code",
   "execution_count": null,
   "metadata": {},
   "outputs": [],
   "source": []
  },
  {
   "cell_type": "code",
   "execution_count": null,
   "metadata": {
    "collapsed": true
   },
   "outputs": [],
   "source": []
  }
 ],
 "metadata": {
  "kernelspec": {
   "display_name": "Python 3",
   "language": "python",
   "name": "python3"
  },
  "language_info": {
   "codemirror_mode": {
    "name": "ipython",
    "version": 3
   },
   "file_extension": ".py",
   "mimetype": "text/x-python",
   "name": "python",
   "nbconvert_exporter": "python",
   "pygments_lexer": "ipython3",
   "version": "3.6.1"
  }
 },
 "nbformat": 4,
 "nbformat_minor": 2
}
