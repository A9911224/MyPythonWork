{
 "cells": [
  {
   "cell_type": "markdown",
   "metadata": {},
   "source": [
    "## 幫你查父親節在禮拜幾"
   ]
  },
  {
   "cell_type": "code",
   "execution_count": 4,
   "metadata": {
    "collapsed": true
   },
   "outputs": [],
   "source": [
    "import datetime"
   ]
  },
  {
   "cell_type": "code",
   "execution_count": 3,
   "metadata": {},
   "outputs": [
    {
     "name": "stdout",
     "output_type": "stream",
     "text": [
      "想知道哪年的父親節的星期(離開輸入stop)：asjfk\n",
      "Your year is wrong\n",
      "想知道哪年的父親節的星期：wrui\n",
      "Your year is wrong\n",
      "想知道哪年的父親節的星期：3456\n",
      "3456 Friday\n",
      "想知道哪年的父親節的星期：8888\n",
      "Your year is too far\n",
      "想知道哪年的父親節的星期：2019\n",
      "2019 Thursday\n",
      "想知道哪年的父親節的星期：stop\n"
     ]
    }
   ],
   "source": [
    "def dad(x):\n",
    "    return datetime.date(x,8,8)\n",
    "a = input(\"想知道哪年的父親節的星期(離開輸入stop)：\")\n",
    "\n",
    "while a ==\"stop\":\n",
    "    break\n",
    "while a !=\"stop\":\n",
    "    try: \n",
    "        if int(a) <= 4440 and int(a)>=1:\n",
    "            print(dad(int(a)).strftime(\"%Y %A\"))\n",
    "            a = input(\"想知道哪年的父親節的星期：\")\n",
    "        else:\n",
    "            print(\"Your year is too far\")\n",
    "            a =input(\"想知道哪年的父親節的星期：\")\n",
    "    except:\n",
    "        print(\"Your year is wrong\")\n",
    "        a = input(\"想知道哪年的父親節的星期：\")\n",
    "\n",
    "    "
   ]
  },
  {
   "cell_type": "code",
   "execution_count": null,
   "metadata": {
    "collapsed": true
   },
   "outputs": [],
   "source": []
  }
 ],
 "metadata": {
  "kernelspec": {
   "display_name": "Python 3",
   "language": "python",
   "name": "python3"
  },
  "language_info": {
   "codemirror_mode": {
    "name": "ipython",
    "version": 3
   },
   "file_extension": ".py",
   "mimetype": "text/x-python",
   "name": "python",
   "nbconvert_exporter": "python",
   "pygments_lexer": "ipython3",
   "version": "3.6.1"
  }
 },
 "nbformat": 4,
 "nbformat_minor": 2
}
