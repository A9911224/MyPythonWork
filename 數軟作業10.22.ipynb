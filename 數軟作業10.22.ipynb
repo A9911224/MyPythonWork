{
 "cells": [
  {
   "cell_type": "markdown",
   "metadata": {},
   "source": [
    "# 1.看看有沒有這一天"
   ]
  },
  {
   "cell_type": "code",
   "execution_count": 1,
   "metadata": {},
   "outputs": [
    {
     "name": "stdout",
     "output_type": "stream",
     "text": [
      "年：1900\n",
      "月：2\n",
      "日：29\n"
     ]
    },
    {
     "data": {
      "text/plain": [
       "False"
      ]
     },
     "execution_count": 1,
     "metadata": {},
     "output_type": "execute_result"
    }
   ],
   "source": [
    "\n",
    "def date(y,m,d):\n",
    "    ans = False\n",
    "    if (m == 1 or m ==3 or m ==5 or m ==7 or m ==8 or m ==10 or m ==12) and 1<=d and d<=31:\n",
    "        ans = True\n",
    "    elif (m ==4 or m ==6 or m ==9 or m ==11) and 1<=d and d<=30:\n",
    "        ans = True\n",
    "    elif y%400==0 and m==2 and 1<=d and d<=29:\n",
    "        ans = True\n",
    "    elif y%100==0 and m==2 and d==29:\n",
    "        ans = False\n",
    "    elif y%4!=0 and m==2 and 1<=d and d<=28:\n",
    "        ans = True    \n",
    "    elif y%4==0 and m==2 and 1<=d and d<=29:\n",
    "        ans = True  \n",
    "    else:\n",
    "        ans = False\n",
    "    return ans\n",
    "\n",
    "a = input(\"年：\")\n",
    "b = input(\"月：\")\n",
    "c = input(\"日：\")\n",
    "        \n",
    "        \n",
    "date(int(a),int(b),int(c))"
   ]
  },
  {
   "cell_type": "code",
   "execution_count": null,
   "metadata": {
    "collapsed": true
   },
   "outputs": [],
   "source": []
  },
  {
   "cell_type": "markdown",
   "metadata": {},
   "source": [
    "# 2.吃蛋糕或吃大便"
   ]
  },
  {
   "cell_type": "code",
   "execution_count": 2,
   "metadata": {},
   "outputs": [
    {
     "name": "stdout",
     "output_type": "stream",
     "text": [
      "Player1:你吃\n",
      "Player2:大便\n",
      "Player1 win!\n"
     ]
    }
   ],
   "source": [
    "\n",
    "\n",
    "a = input(\"Player1:\")\n",
    "b = input(\"Player2:\")\n",
    "\n",
    "c = a.lower()\n",
    "d = b.lower()\n",
    "\n",
    "words =[\"蛋糕\",\"大便\",\"你吃\",\"我吃\"]\n",
    "\n",
    "def game(a,b):\n",
    "    if c==words[0] and d==words[2]:\n",
    "        print(\"Player1 win!\")\n",
    "    elif c==words[0] and d==words[3]:\n",
    "        print(\"Player2 win!\")\n",
    "    elif c==words[1] and d==words[2]:\n",
    "        print(\"Player2 win!\")\n",
    "    elif c==words[1] and d==words[3]:\n",
    "        print(\"Player1 win!\")\n",
    "    elif c==words[2] and d==words[0]:\n",
    "        print(\"Player2 win!\")\n",
    "    elif c==words[2] and d==words[1]:\n",
    "        print(\"Player1 win!\")\n",
    "    elif c==words[3] and d==words[0]:\n",
    "        print(\"Player1 win!\")\n",
    "    elif c==words[3] and d==words[1]:\n",
    "        print(\"Player2 win!\")\n",
    "    else:\n",
    "        print(\"No winner!\")\n",
    "    \n",
    "    \n",
    "game(a,b)"
   ]
  },
  {
   "cell_type": "markdown",
   "metadata": {},
   "source": [
    "# 要重複哪句話就<>起來"
   ]
  },
  {
   "cell_type": "code",
   "execution_count": 3,
   "metadata": {},
   "outputs": [
    {
     "name": "stdout",
     "output_type": "stream",
     "text": [
      "要說<什麼>才好\n",
      "什麼\n"
     ]
    }
   ],
   "source": [
    "q=input(\"\")\n",
    "a = q.split(sep=\"<\")\n",
    "b = a[1]\n",
    "c = b.split(sep=\">\")\n",
    "d = c[0]\n",
    "print(d)"
   ]
  },
  {
   "cell_type": "code",
   "execution_count": null,
   "metadata": {
    "collapsed": true
   },
   "outputs": [],
   "source": []
  },
  {
   "cell_type": "markdown",
   "metadata": {},
   "source": [
    "# 四個學妹分別輸入對一個學長的指數(學長的氣質度  學長的體貼度  學長的幽默程度   學妹個人喜好程度   學長對學妹有興趣的程度)"
   ]
  },
  {
   "cell_type": "code",
   "execution_count": 129,
   "metadata": {},
   "outputs": [
    {
     "name": "stdout",
     "output_type": "stream",
     "text": [
      "5 4 3 10 5  \n",
      "2 7 3 3 9\n",
      "6 6 7 9 -10\n",
      "7 2 5 6 0\n",
      "CP 1\n",
      "chance 1\n",
      "without chance 2\n"
     ]
    }
   ],
   "source": [
    "a = input(\"\")\n",
    "b = input(\"\")\n",
    "c = input(\"\")\n",
    "d = input(\"\")\n",
    "\n",
    "aa = a.split(\" \")\n",
    "bb = b.split(\" \")\n",
    "cc = c.split(\" \")\n",
    "dd = d.split(\" \")\n",
    "\n",
    "good=0\n",
    "normal=0\n",
    "bad=0\n",
    "\n",
    "def charm(x):\n",
    "    return int(x[0])+int(x[1])+int(x[2])+int(x[3])+int(x[4])\n",
    "\n",
    "good=0\n",
    "normal=0\n",
    "bad=0\n",
    "\n",
    "S=[aa,bb,cc,dd]\n",
    "for q in S:\n",
    "    if charm(q)>=25:\n",
    "        good=good+1\n",
    "    elif charm(q)>=21:\n",
    "        normal=normal+1\n",
    "    else:\n",
    "        bad=bad+1\n",
    "    \n",
    "\n",
    "print(\"CP\",good)\n",
    "print(\"chance\",normal)\n",
    "print(\"without chance\",bad)"
   ]
  },
  {
   "cell_type": "code",
   "execution_count": 86,
   "metadata": {},
   "outputs": [
    {
     "data": {
      "text/plain": [
       "4"
      ]
     },
     "execution_count": 86,
     "metadata": {},
     "output_type": "execute_result"
    }
   ],
   "source": [
    "5 4 3 10 5    \n",
    "2 7 3 3 9      \n",
    "6 6 7 9 -10   \n",
    "7 2 5 6 0    "
   ]
  },
  {
   "cell_type": "code",
   "execution_count": null,
   "metadata": {
    "collapsed": true
   },
   "outputs": [],
   "source": []
  }
 ],
 "metadata": {
  "kernelspec": {
   "display_name": "Python 3",
   "language": "python",
   "name": "python3"
  },
  "language_info": {
   "codemirror_mode": {
    "name": "ipython",
    "version": 3
   },
   "file_extension": ".py",
   "mimetype": "text/x-python",
   "name": "python",
   "nbconvert_exporter": "python",
   "pygments_lexer": "ipython3",
   "version": "3.6.1"
  }
 },
 "nbformat": 4,
 "nbformat_minor": 2
}
