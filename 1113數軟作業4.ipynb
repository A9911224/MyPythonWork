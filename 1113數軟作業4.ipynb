{
 "cells": [
  {
   "cell_type": "markdown",
   "metadata": {},
   "source": [
    "## 告訴你母親節在什麼時候"
   ]
  },
  {
   "cell_type": "code",
   "execution_count": 7,
   "metadata": {
    "collapsed": true
   },
   "outputs": [],
   "source": [
    "import datetime"
   ]
  },
  {
   "cell_type": "code",
   "execution_count": 18,
   "metadata": {},
   "outputs": [
    {
     "name": "stdout",
     "output_type": "stream",
     "text": [
      "想知道哪年母親節的日期呢：2030\n",
      "2030-05-12\n"
     ]
    }
   ],
   "source": [
    "a = input(\"想知道哪年母親節的日期呢：\")\n",
    "\n",
    "\n",
    "def mom(x,y):\n",
    "    return datetime.date(x,5,y)\n",
    "for i in range(int(a),int(a)+1):\n",
    "    for j in range(8,15):\n",
    "        if mom(i,j).strftime(\"%a\") == \"Sun\":\n",
    "            print(mom(i,j))"
   ]
  },
  {
   "cell_type": "code",
   "execution_count": null,
   "metadata": {
    "collapsed": true
   },
   "outputs": [],
   "source": []
  }
 ],
 "metadata": {
  "kernelspec": {
   "display_name": "Python 3",
   "language": "python",
   "name": "python3"
  },
  "language_info": {
   "codemirror_mode": {
    "name": "ipython",
    "version": 3
   },
   "file_extension": ".py",
   "mimetype": "text/x-python",
   "name": "python",
   "nbconvert_exporter": "python",
   "pygments_lexer": "ipython3",
   "version": "3.6.1"
  }
 },
 "nbformat": 4,
 "nbformat_minor": 2
}
