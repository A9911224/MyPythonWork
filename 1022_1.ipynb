{
 "cells": [
  {
   "cell_type": "markdown",
   "metadata": {},
   "source": [
    "# 看看有沒有這一天"
   ]
  },
  {
   "cell_type": "code",
   "execution_count": 2,
   "metadata": {},
   "outputs": [
    {
     "name": "stdout",
     "output_type": "stream",
     "text": [
      "年：1800\n",
      "月：2\n",
      "日：29\n"
     ]
    },
    {
     "data": {
      "text/plain": [
       "False"
      ]
     },
     "execution_count": 2,
     "metadata": {},
     "output_type": "execute_result"
    }
   ],
   "source": [
    "\n",
    "def date(y,m,d):\n",
    "    ans = False\n",
    "    if (m == 1 or m ==3 or m ==5 or m ==7 or m ==8 or m ==10 or m ==12) and 1<=d and d<=31:\n",
    "        ans = True\n",
    "    elif (m ==4 or m ==6 or m ==9 or m ==11) and 1<=d and d<=30:\n",
    "        ans = True\n",
    "    elif y%400==0 and m==2 and 1<=d and d<=29:\n",
    "        ans = True\n",
    "    elif y%100==0 and m==2 and d==29:\n",
    "        ans = False\n",
    "    elif y%4!=0 and m==2 and 1<=d and d<=28:\n",
    "        ans = True    \n",
    "    elif y%4==0 and m==2 and 1<=d and d<=29:\n",
    "        ans = True  \n",
    "    else:\n",
    "        ans = False\n",
    "    return ans\n",
    "\n",
    "a = input(\"年：\")\n",
    "b = input(\"月：\")\n",
    "c = input(\"日：\")\n",
    "        \n",
    "        \n",
    "date(int(a),int(b),int(c))"
   ]
  },
  {
   "cell_type": "code",
   "execution_count": null,
   "metadata": {
    "collapsed": true
   },
   "outputs": [],
   "source": []
  },
  {
   "cell_type": "code",
   "execution_count": null,
   "metadata": {
    "collapsed": true
   },
   "outputs": [],
   "source": []
  }
 ],
 "metadata": {
  "kernelspec": {
   "display_name": "Python 3",
   "language": "python",
   "name": "python3"
  },
  "language_info": {
   "codemirror_mode": {
    "name": "ipython",
    "version": 3
   },
   "file_extension": ".py",
   "mimetype": "text/x-python",
   "name": "python",
   "nbconvert_exporter": "python",
   "pygments_lexer": "ipython3",
   "version": "3.6.1"
  }
 },
 "nbformat": 4,
 "nbformat_minor": 2
}
