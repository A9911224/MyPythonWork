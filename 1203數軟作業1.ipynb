{
 "cells": [
  {
   "cell_type": "markdown",
   "metadata": {},
   "source": [
    "#### 先輸入n，代表接下來會有n位同學的資料，\n",
    "#### 接下來會依照 姓名 國文(Chinese) 英文(English) 數學(Math) 自然(Science) 社會(Society)輸入，\n",
    "#### 最後要求任意兩個科目，尋找兩科任一及格(or 關係)的人姓名。\n",
    "#### 將人名以排序，再以\",\"隔開印出。如果沒有任何人及格，請印出NO。"
   ]
  },
  {
   "cell_type": "code",
   "execution_count": 41,
   "metadata": {},
   "outputs": [
    {
     "name": "stdout",
     "output_type": "stream",
     "text": [
      "5\n",
      "Amy 90 60 40 100 100\n",
      "Amy 90 60 40 100 100\n",
      "Tom 10 10 10 50 100\n",
      "Fred 45 55 56 48 20\n",
      "Alex 100 100 100 100 100\n",
      "Chinese English\n",
      "Alex,Amy\n"
     ]
    }
   ],
   "source": [
    "num = int(input())\n",
    "dataDict = {'Chinese':set(),\"English\":set(),\"Math\":set(),\"Science\":set(),\"Society\":set()}\n",
    "for i in range(num):\n",
    "    rowList = input().split()\n",
    "    #print(rowList)\n",
    "    if int(rowList[1]) >= 60:\n",
    "        dataDict['Chinese'].add(rowList[0])\n",
    "    if int(rowList[2]) >= 60:\n",
    "        dataDict['English'].add(rowList[0])\n",
    "    if int(rowList[3]) >= 60:\n",
    "        dataDict['Math'].add(rowList[0])\n",
    "    if int(rowList[4]) >= 60:\n",
    "        dataDict['Science'].add(rowList[0])\n",
    "    if int(rowList[5]) >= 60:\n",
    "        dataDict['Society'].add(rowList[0])\n",
    "        \n",
    "twoList = input().split()\n",
    "\n",
    "if dataDict[twoList[0]] | dataDict[twoList[1]] == set():\n",
    "    a = {\"NO\"}\n",
    "else:\n",
    "    a = dataDict[twoList[0]] | dataDict[twoList[1]]\n",
    "b = list(a)\n",
    "b.sort()\n",
    "c =\",\".join(b)\n",
    "print(c)"
   ]
  },
  {
   "cell_type": "code",
   "execution_count": null,
   "metadata": {
    "collapsed": true
   },
   "outputs": [],
   "source": [
    "5\n",
    "Amy 90 60 40 100 100\n",
    "Amy 90 60 40 100 100\n",
    "Tom 10 10 10 50 100\n",
    "Fred 45 55 56 48 20\n",
    "Alex 100 100 100 100 100\n",
    "Chinese English"
   ]
  },
  {
   "cell_type": "code",
   "execution_count": null,
   "metadata": {
    "collapsed": true
   },
   "outputs": [],
   "source": []
  }
 ],
 "metadata": {
  "kernelspec": {
   "display_name": "Python 3",
   "language": "python",
   "name": "python3"
  },
  "language_info": {
   "codemirror_mode": {
    "name": "ipython",
    "version": 3
   },
   "file_extension": ".py",
   "mimetype": "text/x-python",
   "name": "python",
   "nbconvert_exporter": "python",
   "pygments_lexer": "ipython3",
   "version": "3.6.1"
  }
 },
 "nbformat": 4,
 "nbformat_minor": 2
}
