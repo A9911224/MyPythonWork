{
 "cells": [
  {
   "cell_type": "code",
   "execution_count": 2,
   "metadata": {
    "collapsed": true
   },
   "outputs": [],
   "source": [
    "%matplotlib inline\n",
    "import numpy as np\n",
    "import matplotlib.pyplot as plt\n",
    "import sympy as sp"
   ]
  },
  {
   "cell_type": "markdown",
   "metadata": {},
   "source": [
    "## 擴充線性獨立集合為基底"
   ]
  },
  {
   "cell_type": "code",
   "execution_count": 3,
   "metadata": {
    "collapsed": true
   },
   "outputs": [],
   "source": [
    "sp.init_printing()"
   ]
  },
  {
   "cell_type": "code",
   "execution_count": 29,
   "metadata": {
    "collapsed": true
   },
   "outputs": [],
   "source": [
    "A=sp.Matrix([[1,2,3,4,5],[1,2,3,4,6],[1,3,6,4,2],[1,3,2,4,6],[2,4,8,2,6],[3,2,5,1,6]])"
   ]
  },
  {
   "cell_type": "code",
   "execution_count": 30,
   "metadata": {},
   "outputs": [
    {
     "data": {
      "text/latex": [
       "$$\\left[\\begin{matrix}1 & 1 & 1 & 1 & 2 & 3\\\\2 & 2 & 3 & 3 & 4 & 2\\\\3 & 3 & 6 & 2 & 8 & 5\\\\4 & 4 & 4 & 4 & 2 & 1\\\\5 & 6 & 2 & 6 & 6 & 6\\end{matrix}\\right]$$"
      ],
      "text/plain": [
       "⎡1  1  1  1  2  3⎤\n",
       "⎢                ⎥\n",
       "⎢2  2  3  3  4  2⎥\n",
       "⎢                ⎥\n",
       "⎢3  3  6  2  8  5⎥\n",
       "⎢                ⎥\n",
       "⎢4  4  4  4  2  1⎥\n",
       "⎢                ⎥\n",
       "⎣5  6  2  6  6  6⎦"
      ]
     },
     "execution_count": 30,
     "metadata": {},
     "output_type": "execute_result"
    }
   ],
   "source": [
    "B=A.T\n",
    "B"
   ]
  },
  {
   "cell_type": "code",
   "execution_count": 31,
   "metadata": {},
   "outputs": [
    {
     "data": {
      "text/latex": [
       "$$\\left ( \\left[\\begin{matrix}1 & 0 & 0 & 0 & 0 & \\frac{38}{3}\\\\0 & 1 & 0 & 0 & 0 & - \\frac{28}{3}\\\\0 & 0 & 1 & 0 & 0 & - \\frac{35}{12}\\\\0 & 0 & 0 & 1 & 0 & - \\frac{13}{12}\\\\0 & 0 & 0 & 0 & 1 & \\frac{11}{6}\\end{matrix}\\right], \\quad \\left [ 0, \\quad 1, \\quad 2, \\quad 3, \\quad 4\\right ]\\right )$$"
      ],
      "text/plain": [
       "⎛⎡1  0  0  0  0  38/3 ⎤, [0, 1, 2, 3, 4]⎞\n",
       "⎜⎢                    ⎥                 ⎟\n",
       "⎜⎢0  1  0  0  0  -28/3⎥                 ⎟\n",
       "⎜⎢                    ⎥                 ⎟\n",
       "⎜⎢               -35  ⎥                 ⎟\n",
       "⎜⎢0  0  1  0  0  ──── ⎥                 ⎟\n",
       "⎜⎢                12  ⎥                 ⎟\n",
       "⎜⎢                    ⎥                 ⎟\n",
       "⎜⎢               -13  ⎥                 ⎟\n",
       "⎜⎢0  0  0  1  0  ──── ⎥                 ⎟\n",
       "⎜⎢                12  ⎥                 ⎟\n",
       "⎜⎢                    ⎥                 ⎟\n",
       "⎝⎣0  0  0  0  1  11/6 ⎦                 ⎠"
      ]
     },
     "execution_count": 31,
     "metadata": {},
     "output_type": "execute_result"
    }
   ],
   "source": [
    "B.rref()"
   ]
  },
  {
   "cell_type": "code",
   "execution_count": 34,
   "metadata": {},
   "outputs": [
    {
     "data": {
      "image/png": "[encoded data removed]",
      "text/latex": [
       "$$\\left [ 0, \\quad 1, \\quad 2, \\quad 3, \\quad 4\\right ]$$"
      ],
      "text/plain": [
       "[0, 1, 2, 3, 4]"
      ]
     },
     "execution_count": 34,
     "metadata": {},
     "output_type": "execute_result"
    }
   ],
   "source": [
    "re=B.rref()\n",
    "re[1]"
   ]
  },
  {
   "cell_type": "code",
   "execution_count": 35,
   "metadata": {},
   "outputs": [
    {
     "data": {
      "text/latex": [
       "$$\\left[\\begin{matrix}1 & 1 & 1 & 1 & 2\\\\2 & 2 & 3 & 3 & 4\\\\3 & 3 & 6 & 2 & 8\\\\4 & 4 & 4 & 4 & 2\\\\5 & 6 & 2 & 6 & 6\\end{matrix}\\right]$$"
      ],
      "text/plain": [
       "⎡1  1  1  1  2⎤\n",
       "⎢             ⎥\n",
       "⎢2  2  3  3  4⎥\n",
       "⎢             ⎥\n",
       "⎢3  3  6  2  8⎥\n",
       "⎢             ⎥\n",
       "⎢4  4  4  4  2⎥\n",
       "⎢             ⎥\n",
       "⎣5  6  2  6  6⎦"
      ]
     },
     "execution_count": 35,
     "metadata": {},
     "output_type": "execute_result"
    }
   ],
   "source": [
    "B.col(re[1])"
   ]
  },
  {
   "cell_type": "code",
   "execution_count": 36,
   "metadata": {},
   "outputs": [
    {
     "data": {
      "text/latex": [
       "$$\\left[\\begin{matrix}1 & 2 & 3 & 4 & 5\\\\1 & 2 & 3 & 4 & 6\\\\1 & 3 & 6 & 4 & 2\\\\1 & 3 & 2 & 4 & 6\\\\2 & 4 & 8 & 2 & 6\\end{matrix}\\right]$$"
      ],
      "text/plain": [
       "⎡1  2  3  4  5⎤\n",
       "⎢             ⎥\n",
       "⎢1  2  3  4  6⎥\n",
       "⎢             ⎥\n",
       "⎢1  3  6  4  2⎥\n",
       "⎢             ⎥\n",
       "⎢1  3  2  4  6⎥\n",
       "⎢             ⎥\n",
       "⎣2  4  8  2  6⎦"
      ]
     },
     "execution_count": 36,
     "metadata": {},
     "output_type": "execute_result"
    }
   ],
   "source": [
    "A.row(re[1])"
   ]
  },
  {
   "cell_type": "code",
   "execution_count": null,
   "metadata": {
    "collapsed": true
   },
   "outputs": [],
   "source": [
    "\n",
    "\n"
   ]
  },
  {
   "cell_type": "code",
   "execution_count": null,
   "metadata": {
    "collapsed": true
   },
   "outputs": [],
   "source": []
  }
 ],
 "metadata": {
  "kernelspec": {
   "display_name": "Python 3",
   "language": "python",
   "name": "python3"
  },
  "language_info": {
   "codemirror_mode": {
    "name": "ipython",
    "version": 3
   },
   "file_extension": ".py",
   "mimetype": "text/x-python",
   "name": "python",
   "nbconvert_exporter": "python",
   "pygments_lexer": "ipython3",
   "version": "3.6.1"
  }
 },
 "nbformat": 4,
 "nbformat_minor": 2
}
