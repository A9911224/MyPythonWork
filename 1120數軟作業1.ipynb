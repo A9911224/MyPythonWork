{
 "cells": [
  {
   "cell_type": "markdown",
   "metadata": {},
   "source": [
    "#### 在圖書館的借閱說明提到:\n",
    "\n",
    "#### 借書時，若該書仍有其他讀者預約，借期將縮短：(若無讀者預約，借期為五週)\n",
    "\n",
    "#### 專任教師（講師以上）及研究人員(助理研究員以上)借期縮短為四週，其他讀者借期縮短為二週。\n",
    "\n",
    "\n",
    "\n",
    "#### 輸入不限行數:一行會有三樣資訊\n",
    "\n",
    "#### 首先是今天日期及時間（%Y/%m/%d/%H:%M）\n",
    "\n",
    "#### 再來是借書者的身分別（student/professor）\n",
    "\n",
    "#### 最後是此書是否有人預約（reservation/no）"
   ]
  },
  {
   "cell_type": "code",
   "execution_count": 2,
   "metadata": {},
   "outputs": [
    {
     "name": "stdout",
     "output_type": "stream",
     "text": [
      "2019/9/9/16:30 professor reservation\n",
      "2019-10-07 16:30:00\n",
      "2020/10/2/12:00 professor none\n",
      "2020-11-06 12:00:00\n",
      "2020/10/2/12:00 professor sfljlseflj\n",
      "2020/10/2/12:00 professordfjae none\n",
      "2020/11/1/13:10 student reservation\n",
      "2020-11-15 13:10:00\n",
      "2020/07/07/11:04 student none\n",
      "2020-08-11 11:04:00\n",
      "2020/03/15/16:45 professor reservation\n",
      "2020-04-12 16:45:00\n",
      "\n"
     ]
    }
   ],
   "source": [
    "import datetime\n",
    "from datetime import timedelta\n",
    "\n",
    "a = input()\n",
    "b = a.split(\" \")\n",
    "    \n",
    "while a != \"\":\n",
    "    try:\n",
    "        c = datetime.datetime.strptime(b[0],\"%Y/%m/%d/%H:%M\")\n",
    "        if b[2] == \"none\" and (b[1] == \"student\" or b[1] == \"professor\"):\n",
    "            print(datetime.timedelta(days=35)+c)\n",
    "            a = input()\n",
    "            b = a.split(\" \")\n",
    "            c = datetime.datetime.strptime(b[0],\"%Y/%m/%d/%H:%M\")\n",
    "\n",
    "        elif b[2] == \"reservation\" and b[1] == \"student\":\n",
    "            print(datetime.timedelta(days=14)+c)\n",
    "            a = input()\n",
    "            b = a.split(\" \")\n",
    "            c = datetime.datetime.strptime(b[0],\"%Y/%m/%d/%H:%M\")\n",
    "\n",
    "        elif b[2] == \"reservation\" and b[1] == \"professor\":\n",
    "            print(datetime.timedelta(days=28)+c)\n",
    "            a = input()\n",
    "            b = a.split(\" \")\n",
    "            c = datetime.datetime.strptime(b[0],\"%Y/%m/%d/%H:%M\")\n",
    "            \n",
    "        else:\n",
    "            a = input()\n",
    "            b = a.split(\" \")\n",
    "            c = datetime.datetime.strptime(b[0],\"%Y/%m/%d/%H:%M\")\n",
    "            \n",
    "\n",
    "    except:\n",
    "        break\n",
    "            \n",
    "while a ==\"\":\n",
    "    break"
   ]
  },
  {
   "cell_type": "code",
   "execution_count": null,
   "metadata": {
    "collapsed": true
   },
   "outputs": [],
   "source": []
  }
 ],
 "metadata": {
  "kernelspec": {
   "display_name": "Python 3",
   "language": "python",
   "name": "python3"
  },
  "language_info": {
   "codemirror_mode": {
    "name": "ipython",
    "version": 3
   },
   "file_extension": ".py",
   "mimetype": "text/x-python",
   "name": "python",
   "nbconvert_exporter": "python",
   "pygments_lexer": "ipython3",
   "version": "3.6.1"
  }
 },
 "nbformat": 4,
 "nbformat_minor": 2
}
