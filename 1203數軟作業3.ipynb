{
 "cells": [
  {
   "cell_type": "code",
   "execution_count": 44,
   "metadata": {},
   "outputs": [
    {
     "name": "stdout",
     "output_type": "stream",
     "text": [
      "aeiou\n",
      "uoiea\n",
      "asufihrwlgnlw\n",
      "isufahrwlgnlw\n",
      "saseesiou\n",
      "susoiseea\n",
      "\n"
     ]
    }
   ],
   "source": [
    "##子音不動母音順序顛倒\n",
    "\n",
    "def vowel_func(a):\n",
    "    vowel = []\n",
    "    vowelIdx = []\n",
    "    idx = []\n",
    "    replaceVowel = []\n",
    "\n",
    "    b = \",\".join(a)\n",
    "    c = b.split(\",\")\n",
    "    for i in range(0,len(c)):\n",
    "        if a[i] ==\"a\" or a[i] ==\"e\" or a[i]==\"i\" or a[i] ==\"o\" or a[i]==\"u\":\n",
    "            vowel.append(a[i])\n",
    "            vowelIdx.append(i)\n",
    "    vowel.reverse()\n",
    "            \n",
    "    for i in range(0,len(vowel)):\n",
    "        idx = vowelIdx[i]\n",
    "        replaceVowel = vowel[i]\n",
    "        a = a[:idx] + replaceVowel + a[idx+1:]\n",
    "    print(a)\n",
    "\n",
    "a = input()\n",
    "\n",
    "while a == \"\":\n",
    "    break\n",
    "    \n",
    "while a != \"\":\n",
    "    try:\n",
    "        vowel_func(a)\n",
    "        a = input()\n",
    "    except:\n",
    "        break"
   ]
  },
  {
   "cell_type": "code",
   "execution_count": null,
   "metadata": {},
   "outputs": [],
   "source": []
  },
  {
   "cell_type": "code",
   "execution_count": null,
   "metadata": {
    "collapsed": true
   },
   "outputs": [],
   "source": []
  }
 ],
 "metadata": {
  "kernelspec": {
   "display_name": "Python 3",
   "language": "python",
   "name": "python3"
  },
  "language_info": {
   "codemirror_mode": {
    "name": "ipython",
    "version": 3
   },
   "file_extension": ".py",
   "mimetype": "text/x-python",
   "name": "python",
   "nbconvert_exporter": "python",
   "pygments_lexer": "ipython3",
   "version": "3.6.1"
  }
 },
 "nbformat": 4,
 "nbformat_minor": 2
}
